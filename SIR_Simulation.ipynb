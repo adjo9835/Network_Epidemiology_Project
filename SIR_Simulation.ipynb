{
 "cells": [
  {
   "cell_type": "markdown",
   "metadata": {},
   "source": [
    "SIR Simulation Model for the Spread of Infectious Diseases"
   ]
  },
  {
   "cell_type": "code",
   "execution_count": 26,
   "metadata": {},
   "outputs": [],
   "source": [
    "import networkx as nx\n",
    "import numpy as np\n",
    "import matplotlib\n",
    "import matplotlib.pylab as plt\n",
    "import random\n",
    "import copy\n",
    "%matplotlib inline"
   ]
  },
  {
   "cell_type": "markdown",
   "metadata": {},
   "source": [
    "Create Network from Scratch:"
   ]
  },
  {
   "cell_type": "code",
   "execution_count": 123,
   "metadata": {
    "scrolled": true
   },
   "outputs": [
    {
     "name": "stderr",
     "output_type": "stream",
     "text": [
      "C:\\Anaconda\\lib\\site-packages\\networkx\\drawing\\nx_pylab.py:579: MatplotlibDeprecationWarning: \n",
      "The iterable function was deprecated in Matplotlib 3.1 and will be removed in 3.3. Use np.iterable instead.\n",
      "  if not cb.iterable(width):\n"
     ]
    },
    {
     "data": {
      "image/png": "[encoded data removed]",
      "text/plain": [
       "<Figure size 432x288 with 1 Axes>"
      ]
     },
     "metadata": {},
     "output_type": "display_data"
    }
   ],
   "source": [
    "G = nx.Graph()\n",
    "G.add_weighted_edges_from([(0,1,1),(1,2,1),(1,3,1),(2,4,1),(3,4,1)])\n",
    "nx.draw(G,node_size=100,width=1,with_labels=True,font_size=16)"
   ]
  },
  {
   "cell_type": "markdown",
   "metadata": {},
   "source": [
    "Load Network from file:"
   ]
  },
  {
   "cell_type": "code",
   "execution_count": null,
   "metadata": {
    "scrolled": true
   },
   "outputs": [],
   "source": []
  },
  {
   "cell_type": "markdown",
   "metadata": {},
   "source": [
    "Define Simulation Function:"
   ]
  },
  {
   "cell_type": "code",
   "execution_count": 124,
   "metadata": {},
   "outputs": [],
   "source": [
    "def simulate(G,beta,gamma,z):\n",
    "    ztemp = copy.deepcopy(z)\n",
    "    rnd = 0\n",
    "    S = [len(z)-1]\n",
    "    I = [1]\n",
    "    R = [0]\n",
    "    t = [0]\n",
    "    maxWeight = 0\n",
    "    #print(\"z0 = \",z)\n",
    "    #print(\"ztemp0 = \",ztemp)\n",
    "    for edge in G.edges:\n",
    "        if G[edge[0]][edge[1]]['weight'] > maxWeight:\n",
    "            maxWeight = G[edge[0]][edge[1]]['weight']\n",
    "    while 1 in z:\n",
    "        rnd += 1\n",
    "        #print(\"Beginning of round\",rnd)\n",
    "        for edge in G.edges():\n",
    "            weight = G[edge[0]][edge[1]]['weight']\n",
    "            weightRatio = weight/maxWeight\n",
    "            #print(\"edge = \",edge)\n",
    "            #print(\"edge[0] =\",edge[0])\n",
    "            #print(\"edge[1] =\",edge[1])\n",
    "            #print(\"z[\",edge[0],\"] =\",z[edge[0]])\n",
    "            #print(\"z[\",edge[1],\"] =\",z[edge[1]])\n",
    "            #print(\"ztemp[\",edge[0],\"] =\",ztemp[edge[0]])\n",
    "            #print(\"ztemp[\",edge[1],\"] =\",ztemp[edge[1]])\n",
    "            if int(z[edge[0]]) == 1 and int(z[edge[1]]) == 0:\n",
    "                if random.random() < beta*weightRatio:\n",
    "                    ztemp[edge[1]] = 1\n",
    "                    #print(\"infection spread from node\",edge[0],\"to\",edge[1])\n",
    "                #else:\n",
    "                    #print(\"infection did not spread from node\",edge[0],\"to\",edge[1])\n",
    "            if int(z[edge[1]]) == 1 and int(z[edge[0]]) == 0:\n",
    "                if random.random() < beta*weightRatio:\n",
    "                    ztemp[edge[0]] = 1\n",
    "                    #print(\"infection spread from node\",edge[1],\"to\",edge[0])\n",
    "                #else:\n",
    "                    #print(\"infection did not spread from node\",edge[1],\"to\",edge[0])\n",
    "            #print(\"z after infections = \",z)\n",
    "            #print(\"ztemp after infections = \",ztemp)\n",
    "        for node in G:\n",
    "            if z[node] == 1:\n",
    "                #print(\"node = \",node)\n",
    "                if random.random() < gamma:\n",
    "                    ztemp[node] = 2\n",
    "                    #print(\"node\",node,\"recovered\")\n",
    "                #else:\n",
    "                    #print(\"node\",node,\"did not recover\")\n",
    "        #print(\"z after recoveries = \",z)\n",
    "        #print(\"ztemp after recoveries = \",ztemp)\n",
    "        z = copy.deepcopy(ztemp)\n",
    "        S.append(z.count(0))\n",
    "        I.append(z.count(1))\n",
    "        R.append(z.count(2))\n",
    "        t.append(rnd)\n",
    "    if 1 not in z:\n",
    "        print(\"Simulation is complete \\nzFinal =\",z,\"\\nS =\",S,\"\\nI =\",I,\"\\nR =\",R,\"\\nt =\",t)\n",
    "        return S,I,R,t"
   ]
  },
  {
   "cell_type": "markdown",
   "metadata": {},
   "source": [
    "Run Simulation:"
   ]
  },
  {
   "cell_type": "code",
   "execution_count": 136,
   "metadata": {},
   "outputs": [
    {
     "name": "stdout",
     "output_type": "stream",
     "text": [
      "Simulation is complete \n",
      "zFinal = [0, 0, 0, 0, 2] \n",
      "S = [4, 4, 4] \n",
      "I = [1, 1, 0] \n",
      "R = [0, 0, 1] \n",
      "t = [0, 1, 2]\n"
     ]
    }
   ],
   "source": [
    "z = [0]*5\n",
    "OL = rnd.randint(0,len(G)-1)\n",
    "z[OL] = int(1) \n",
    "beta = 0.5\n",
    "gamma = 0.25\n",
    "S,I,R,t = simulate(G,beta,gamma,z)\n"
   ]
  },
  {
   "cell_type": "markdown",
   "metadata": {},
   "source": [
    "Visualize Simulation:"
   ]
  },
  {
   "cell_type": "code",
   "execution_count": 137,
   "metadata": {},
   "outputs": [
    {
     "data": {
      "image/png": "[encoded data removed]",
      "text/plain": [
       "<Figure size 432x288 with 1 Axes>"
      ]
     },
     "metadata": {
      "needs_background": "light"
     },
     "output_type": "display_data"
    }
   ],
   "source": [
    "legend = [\"S\",\"I\",\"R\"]\n",
    "plt.plot(t,S,label=legend[0])\n",
    "plt.plot(t,I,label=legend[1])\n",
    "plt.plot(t,R,label=legend[2])\n",
    "plt.legend()\n",
    "plt.show()"
   ]
  },
  {
   "cell_type": "code",
   "execution_count": null,
   "metadata": {},
   "outputs": [],
   "source": []
  }
 ],
 "metadata": {
  "kernelspec": {
   "display_name": "Python 3",
   "language": "python",
   "name": "python3"
  },
  "language_info": {
   "codemirror_mode": {
    "name": "ipython",
    "version": 3
   },
   "file_extension": ".py",
   "mimetype": "text/x-python",
   "name": "python",
   "nbconvert_exporter": "python",
   "pygments_lexer": "ipython3",
   "version": "3.7.3"
  }
 },
 "nbformat": 4,
 "nbformat_minor": 2
}
