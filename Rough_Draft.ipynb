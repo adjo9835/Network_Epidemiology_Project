{
 "cells": [
  {
   "cell_type": "markdown",
   "metadata": {},
   "source": [
    "Adam Jones  \n",
    "Biological Networks  \n",
    "Project Rough Draft  \n",
    "10/29/19"
   ]
  },
  {
   "cell_type": "code",
   "execution_count": 1,
   "metadata": {},
   "outputs": [],
   "source": [
    "import networkx as nx\n",
    "import matplotlib\n",
    "import matplotlib.pylab as plt"
   ]
  },
  {
   "cell_type": "markdown",
   "metadata": {},
   "source": [
    "Import network data:"
   ]
  },
  {
   "cell_type": "code",
   "execution_count": 7,
   "metadata": {},
   "outputs": [
    {
     "name": "stdout",
     "output_type": "stream",
     "text": [
      "number of nodes = 1574\n",
      "number of edges =  17215\n",
      "G =  \n"
     ]
    }
   ],
   "source": [
    "path = r\"C:\\Users\\Adam Jones\\Desktop\\CSCI3352\\Project\\Data\\USairport_2010.txt\"\n",
    "G = nx.read_weighted_edgelist(path)\n",
    "n = G.number_of_nodes()\n",
    "m = G.number_of_edges()\n",
    "print(\"number of nodes =\", n)\n",
    "print(\"number of edges = \",m)\n",
    "print(\"G = \",G)\n",
    "# pos=nx.circular_layout(G) # positions for all nodes\n",
    "# nx.draw_networkx_nodes(G,pos,node_size=10)\n",
    "# nx.draw_networkx_edges(G,pos,width=1)\n",
    "# # labels\n",
    "# nx.draw_networkx_labels(G,pos,font_size=20,font_family='sans-serif')\n",
    "\n",
    "# plt.axis('off')\n",
    "# plt.show() # display\n",
    "# #nx.draw(G,node_size='200',weight='weight')"
   ]
  },
  {
   "cell_type": "markdown",
   "metadata": {},
   "source": [
    "Remove of detached parts of the graph"
   ]
  },
  {
   "cell_type": "code",
   "execution_count": null,
   "metadata": {},
   "outputs": [],
   "source": [
    "for node in G:\n",
    "    print(list(G.neighbors(node)))"
   ]
  },
  {
   "cell_type": "code",
   "execution_count": null,
   "metadata": {},
   "outputs": [],
   "source": [
    "num = 0\n",
    "for node in G:\n",
    "    length = 0\n",
    "    visited = []\n",
    "    while length < 5:\n",
    "        print(\"node =\",node)\n",
    "        print(\"num =\",num)\n",
    "        if list(G.neighbors(node))[num]:\n",
    "            nxt = list(G.neighbors(node))[num]\n",
    "        else:\n",
    "            print(\"end\")\n",
    "        print(\"nxt = \",nxt)\n",
    "        print(\"visited =\",visited)\n",
    "        if nxt and nxt not in visited:\n",
    "            num = 0\n",
    "            visited.append(node)\n",
    "            length += 1\n",
    "            node = nxt\n",
    "        else:\n",
    "            num+=1\n",
    "        if num > 10:\n",
    "            print(\"end\")"
   ]
  },
  {
   "cell_type": "code",
   "execution_count": null,
   "metadata": {},
   "outputs": [],
   "source": [
    "path = \"Data/USairport500.txt\"\n",
    "G = nx.read_weighted_edgelist(path)\n",
    "n = grph.number_of_nodes()\n",
    "m = grph.number_of_edges()\n",
    "print(\"number of nodes =\", n)\n",
    "print(\"number of edges = \",m)\n",
    "print(\"G = \",G)\n",
    "pos=nx.spring_layout(G) # positions for all nodes\n",
    "nx.draw_networkx_nodes(G,pos,node_size=10)\n",
    "nx.draw_networkx_edges(G,pos,width=1)\n",
    "# labels\n",
    "#nx.draw_networkx_labels(G,pos,font_size=20,font_family='sans-serif')\n",
    "\n",
    "plt.axis('off')\n",
    "plt.show() # display\n",
    "#nx.draw(G,node_size='200',weight='weight')"
   ]
  },
  {
   "cell_type": "markdown",
   "metadata": {},
   "source": [
    "Implement Dijkstra's algorithm"
   ]
  },
  {
   "cell_type": "code",
   "execution_count": null,
   "metadata": {},
   "outputs": [],
   "source": [
    "def dijkstra(graph, source):\n",
    "    print(graph)\n",
    "    vertice, edges = graph\n",
    "    dist = dict()\n",
    "    previous = dict()\n",
    "\n",
    "    for vertex in vertices:\n",
    "        dist[vertex] = float(\"inf\")\n",
    "        previous[vertex] = None\n",
    "\n",
    "    dist[source] = 0\n",
    "    Q = set(vertices)\n",
    "\n",
    "    while len(Q) > 0:\n",
    "        u = minimum_distance(dist, Q)\n",
    "        print('Currently considering', u, 'with a distance of', dist[u])\n",
    "        Q.remove(u)\n",
    "\n",
    "        if dist[u] == float('inf'):\n",
    "            break\n",
    "\n",
    "        n = get_neighbours(graph, u)\n",
    "        for vertex in n:\n",
    "            alt = dist[u] + dist_between(graph, u, vertex)\n",
    "            if alt < dist[vertex]:\n",
    "                dist[vertex] = alt\n",
    "                previous[vertex] = u\n",
    "\n",
    "    return previous"
   ]
  },
  {
   "cell_type": "code",
   "execution_count": null,
   "metadata": {},
   "outputs": [],
   "source": [
    "print(dijkstra(G, '1'))"
   ]
  },
  {
   "cell_type": "code",
   "execution_count": null,
   "metadata": {},
   "outputs": [],
   "source": [
    "length = nx.single_source_dijkstra_path_length(grph, 3, cutoff=None, weight='weight')"
   ]
  },
  {
   "cell_type": "code",
   "execution_count": null,
   "metadata": {},
   "outputs": [],
   "source": []
  },
  {
   "cell_type": "code",
   "execution_count": null,
   "metadata": {},
   "outputs": [],
   "source": []
  }
 ],
 "metadata": {
  "kernelspec": {
   "display_name": "Python 3",
   "language": "python",
   "name": "python3"
  },
  "language_info": {
   "codemirror_mode": {
    "name": "ipython",
    "version": 3
   },
   "file_extension": ".py",
   "mimetype": "text/x-python",
   "name": "python",
   "nbconvert_exporter": "python",
   "pygments_lexer": "ipython3",
   "version": "3.7.3"
  }
 },
 "nbformat": 4,
 "nbformat_minor": 2
}
